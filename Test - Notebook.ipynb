{
 "cells": [
  {
   "cell_type": "code",
   "execution_count": 5,
   "id": "60f1186c",
   "metadata": {},
   "outputs": [
    {
     "name": "stderr",
     "output_type": "stream",
     "text": [
      "c:\\Python313\\Lib\\site-packages\\openpyxl\\styles\\stylesheet.py:237: UserWarning: Workbook contains no default style, apply openpyxl's default\n",
      "  warn(\"Workbook contains no default style, apply openpyxl's default\")\n",
      "c:\\Python313\\Lib\\site-packages\\openpyxl\\styles\\stylesheet.py:237: UserWarning: Workbook contains no default style, apply openpyxl's default\n",
      "  warn(\"Workbook contains no default style, apply openpyxl's default\")\n",
      "c:\\Python313\\Lib\\site-packages\\openpyxl\\styles\\stylesheet.py:237: UserWarning: Workbook contains no default style, apply openpyxl's default\n",
      "  warn(\"Workbook contains no default style, apply openpyxl's default\")\n",
      "c:\\Python313\\Lib\\site-packages\\openpyxl\\styles\\stylesheet.py:237: UserWarning: Workbook contains no default style, apply openpyxl's default\n",
      "  warn(\"Workbook contains no default style, apply openpyxl's default\")\n",
      "c:\\Users\\User\\Desktop\\Mini Projects\\KimNEA.ReportNotebook\\report_tools.py:211: FutureWarning: Setting an item of incompatible dtype is deprecated and will raise an error in a future version of pandas. Value '[ 0.02550005  1.02        1.02       ... -0.05000228 -0.01999539\n",
      " -0.47988168]' has dtype incompatible with int64, please explicitly cast to a compatible dtype first.\n",
      "  net.loc[mask,'VOLUME'] = net.loc[mask,'VALUE'] / net.loc[mask,'SKU PRICE REFERENCE']\n",
      "c:\\Users\\User\\Desktop\\Mini Projects\\KimNEA.ReportNotebook\\report_tools.py:244: FutureWarning: Setting an item of incompatible dtype is deprecated and will raise an error in a future version of pandas. Value '[ 0.02550005  1.02        1.02       ... 10.          0.99999907\n",
      "  0.9999987 ]' has dtype incompatible with int64, please explicitly cast to a compatible dtype first.\n",
      "  df.loc[mask,'VOLUME'] = df.loc[mask,'SERVED INVOICE'] / df.loc[mask,'SKU PRICE REFERENCE']\n"
     ]
    },
    {
     "ename": "UnboundLocalError",
     "evalue": "cannot access local variable 'df' where it is not associated with a value",
     "output_type": "error",
     "traceback": [
      "\u001b[31m---------------------------------------------------------------------------\u001b[39m",
      "\u001b[31mUnboundLocalError\u001b[39m                         Traceback (most recent call last)",
      "\u001b[36mCell\u001b[39m\u001b[36m \u001b[39m\u001b[32mIn[5]\u001b[39m\u001b[32m, line 28\u001b[39m\n\u001b[32m     24\u001b[39m format_and_save_excel(si_df, os.path.join(export_path, \u001b[33m\"\u001b[39m\u001b[33mServed Invoice.xlsx\u001b[39m\u001b[33m\"\u001b[39m),\n\u001b[32m     25\u001b[39m                       numeric_cols=[\u001b[33m'\u001b[39m\u001b[33mVolume\u001b[39m\u001b[33m'\u001b[39m,\u001b[33m'\u001b[39m\u001b[33mValue\u001b[39m\u001b[33m'\u001b[39m], autofit_cols=[\u001b[33m'\u001b[39m\u001b[33mVolume\u001b[39m\u001b[33m'\u001b[39m,\u001b[33m'\u001b[39m\u001b[33mValue\u001b[39m\u001b[33m'\u001b[39m])\n\u001b[32m     27\u001b[39m \u001b[38;5;66;03m# Sales Orders\u001b[39;00m\n\u001b[32m---> \u001b[39m\u001b[32m28\u001b[39m so_df = \u001b[43massemble_sales_orders\u001b[49m\u001b[43m(\u001b[49m\u001b[43minp\u001b[49m\u001b[43m,\u001b[49m\u001b[43m \u001b[49m\u001b[43mrefs\u001b[49m\u001b[43m,\u001b[49m\u001b[43m \u001b[49m\u001b[43mprice_ref\u001b[49m\u001b[43m)\u001b[49m\n\u001b[32m     29\u001b[39m format_and_save_excel(so_df, os.path.join(export_path, \u001b[33m\"\u001b[39m\u001b[33mSales_Orders.xlsx\u001b[39m\u001b[33m\"\u001b[39m),\n\u001b[32m     30\u001b[39m                       numeric_cols=[\u001b[33m'\u001b[39m\u001b[33mVolume\u001b[39m\u001b[33m'\u001b[39m,\u001b[33m'\u001b[39m\u001b[33mValue\u001b[39m\u001b[33m'\u001b[39m], autofit_cols=[\u001b[33m'\u001b[39m\u001b[33mVolume\u001b[39m\u001b[33m'\u001b[39m,\u001b[33m'\u001b[39m\u001b[33mValue\u001b[39m\u001b[33m'\u001b[39m])\n",
      "\u001b[36mFile \u001b[39m\u001b[32mc:\\Users\\User\\Desktop\\Mini Projects\\KimNEA.ReportNotebook\\report_tools.py:267\u001b[39m, in \u001b[36massemble_sales_orders\u001b[39m\u001b[34m(inp, refs, price_ref)\u001b[39m\n\u001b[32m    265\u001b[39m         price_ref[\u001b[33m'\u001b[39m\u001b[33mSKU PRICE REFERENCE\u001b[39m\u001b[33m'\u001b[39m] = \u001b[32m0\u001b[39m\n\u001b[32m    266\u001b[39m \u001b[38;5;66;03m# sales orders use 'Product Code' column\u001b[39;00m\n\u001b[32m--> \u001b[39m\u001b[32m267\u001b[39m df[\u001b[33m'\u001b[39m\u001b[33mSKU PRICE REFERENCE\u001b[39m\u001b[33m'\u001b[39m] = \u001b[43mdf\u001b[49m[\u001b[33m'\u001b[39m\u001b[33mProduct Code\u001b[39m\u001b[33m'\u001b[39m].astype(\u001b[38;5;28mstr\u001b[39m).map(price_map).fillna(\u001b[32m0\u001b[39m)\n\u001b[32m    269\u001b[39m cust = inp[\u001b[33m'\u001b[39m\u001b[33mcustomer\u001b[39m\u001b[33m'\u001b[39m][[\u001b[33m'\u001b[39m\u001b[33mNEXT_UP_NUMBER\u001b[39m\u001b[33m'\u001b[39m,\u001b[33m'\u001b[39m\u001b[33mPARTY_CLASSIFICATION_DESCRIPTION\u001b[39m\u001b[33m'\u001b[39m,\u001b[33m'\u001b[39m\u001b[33mKEY_ACCOUNT\u001b[39m\u001b[33m'\u001b[39m,\u001b[33m'\u001b[39m\u001b[33mSALES_REP_ID\u001b[39m\u001b[33m'\u001b[39m,\u001b[33m'\u001b[39m\u001b[33mSALES_REP_NAME\u001b[39m\u001b[33m'\u001b[39m,\u001b[33m'\u001b[39m\u001b[33mBRANCH_NAME\u001b[39m\u001b[33m'\u001b[39m,\u001b[33m'\u001b[39m\u001b[33mGEO_LOCATION_HIERARCHYDESCRIPTION\u001b[39m\u001b[33m'\u001b[39m,\u001b[33m'\u001b[39m\u001b[33mCITY\u001b[39m\u001b[33m'\u001b[39m,\u001b[33m'\u001b[39m\u001b[33mSTATE_PROVINCE\u001b[39m\u001b[33m'\u001b[39m,\u001b[33m'\u001b[39m\u001b[33mCHANNEL\u001b[39m\u001b[33m'\u001b[39m]].rename(columns={\u001b[33m'\u001b[39m\u001b[33mNEXT_UP_NUMBER\u001b[39m\u001b[33m'\u001b[39m:\u001b[33m'\u001b[39m\u001b[33mSold To Customer number\u001b[39m\u001b[33m'\u001b[39m})\n\u001b[32m    270\u001b[39m df = (so.merge(cust, on=\u001b[33m'\u001b[39m\u001b[33mSold To Customer number\u001b[39m\u001b[33m'\u001b[39m, how=\u001b[33m'\u001b[39m\u001b[33mleft\u001b[39m\u001b[33m'\u001b[39m)\n\u001b[32m    271\u001b[39m         .merge(refs[\u001b[33m'\u001b[39m\u001b[33mcategory\u001b[39m\u001b[33m'\u001b[39m].rename(columns={\u001b[33m'\u001b[39m\u001b[33mSKU CODE\u001b[39m\u001b[33m'\u001b[39m:\u001b[33m'\u001b[39m\u001b[33mProduct Code\u001b[39m\u001b[33m'\u001b[39m}), on=\u001b[33m'\u001b[39m\u001b[33mProduct Code\u001b[39m\u001b[33m'\u001b[39m, how=\u001b[33m'\u001b[39m\u001b[33mleft\u001b[39m\u001b[33m'\u001b[39m)\n\u001b[32m    272\u001b[39m         .merge(refs[\u001b[33m'\u001b[39m\u001b[33mfield_supervisors\u001b[39m\u001b[33m'\u001b[39m], on=\u001b[33m'\u001b[39m\u001b[33mSALES_REP_ID\u001b[39m\u001b[33m'\u001b[39m, how=\u001b[33m'\u001b[39m\u001b[33mleft\u001b[39m\u001b[33m'\u001b[39m)\n\u001b[32m    273\u001b[39m         .merge(refs[\u001b[33m'\u001b[39m\u001b[33mweek\u001b[39m\u001b[33m'\u001b[39m].rename(columns={\u001b[33m'\u001b[39m\u001b[33mDATE\u001b[39m\u001b[33m'\u001b[39m:\u001b[33m'\u001b[39m\u001b[33mLast Modified Date\u001b[39m\u001b[33m'\u001b[39m}), on=\u001b[33m'\u001b[39m\u001b[33mLast Modified Date\u001b[39m\u001b[33m'\u001b[39m, how=\u001b[33m'\u001b[39m\u001b[33minner\u001b[39m\u001b[33m'\u001b[39m)\n\u001b[32m    274\u001b[39m         .merge(price_ref, on=\u001b[33m'\u001b[39m\u001b[33mProduct Code\u001b[39m\u001b[33m'\u001b[39m, how=\u001b[33m'\u001b[39m\u001b[33mleft\u001b[39m\u001b[33m'\u001b[39m)\n\u001b[32m    275\u001b[39m      )\n",
      "\u001b[31mUnboundLocalError\u001b[39m: cannot access local variable 'df' where it is not associated with a value"
     ]
    }
   ],
   "source": [
    "import os\n",
    "from report_tools import read_refs, read_inputs, build_m0_pricelist, assemble_net_invoiced, assemble_served_invoice, assemble_sales_orders, format_and_save_excel, DEFAULT_INPUT_FILES, DEFAULT_REFS\n",
    "\n",
    "# configure paths\n",
    "import_path = r\"C:\\Users\\User\\Downloads\\COB DATA\\2025\\10.October\\10.4.25\\COB\\Data\"\n",
    "export_path = r\"C:\\Users\\User\\Downloads\\COB DATA\\2025\\10.October\\10.4.25\\Export\"\n",
    "os.makedirs(export_path, exist_ok=True)\n",
    "\n",
    "# load data\n",
    "refs = read_refs(DEFAULT_REFS)\n",
    "inp = read_inputs(import_path, DEFAULT_INPUT_FILES)\n",
    "\n",
    "# build pricelist and price_ref\n",
    "pl_m0, price_ref = build_m0_pricelist(inp['pricelist'])\n",
    "\n",
    "# Net Invoiced\n",
    "net_df = assemble_net_invoiced(inp, refs, price_ref)\n",
    "format_and_save_excel(net_df, os.path.join(export_path, \"Net_Invoiced.xlsx\"),\n",
    "                      numeric_cols=['Volume','Net Value','Good Stock Returns','Bad Stock Returns'],\n",
    "                      autofit_cols=['Volume','Net Value'])\n",
    "\n",
    "# Served Invoice\n",
    "si_df = assemble_served_invoice(inp, refs, price_ref)\n",
    "format_and_save_excel(si_df, os.path.join(export_path, \"Served Invoice.xlsx\"),\n",
    "                      numeric_cols=['Volume','Value'], autofit_cols=['Volume','Value'])\n",
    "\n",
    "# Sales Orders\n",
    "so_df = assemble_sales_orders(inp, refs, price_ref)\n",
    "format_and_save_excel(so_df, os.path.join(export_path, \"Sales_Orders.xlsx\"),\n",
    "                      numeric_cols=['Volume','Value'], autofit_cols=['Volume','Value'])"
   ]
  }
 ],
 "metadata": {
  "kernelspec": {
   "display_name": "Python 3",
   "language": "python",
   "name": "python3"
  },
  "language_info": {
   "codemirror_mode": {
    "name": "ipython",
    "version": 3
   },
   "file_extension": ".py",
   "mimetype": "text/x-python",
   "name": "python",
   "nbconvert_exporter": "python",
   "pygments_lexer": "ipython3",
   "version": "3.13.1"
  }
 },
 "nbformat": 4,
 "nbformat_minor": 5
}
