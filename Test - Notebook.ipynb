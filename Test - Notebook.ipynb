{
 "cells": [
  {
   "cell_type": "code",
   "execution_count": 1,
   "id": "8384d169",
   "metadata": {},
   "outputs": [],
   "source": [
    "import pandas as pd\n",
    "import os\n",
    "\n",
    "export_path = r\"C:\\Users\\User\\Downloads\\COB DATA\\2025\\10.October\\10.25.25\\Export\"\n",
    "import_path = r\"C:\\Users\\User\\Downloads\\COB DATA\\2025\\10.October\\10.25.25\\COB\\Data\"\n",
    "os.makedirs(export_path, exist_ok=True)\n"
   ]
  },
  {
   "cell_type": "code",
   "execution_count": 2,
   "id": "2e5cc45d",
   "metadata": {},
   "outputs": [
    {
     "name": "stderr",
     "output_type": "stream",
     "text": [
      "c:\\Python313\\Lib\\site-packages\\openpyxl\\styles\\stylesheet.py:237: UserWarning: Workbook contains no default style, apply openpyxl's default\n",
      "  warn(\"Workbook contains no default style, apply openpyxl's default\")\n",
      "C:\\Users\\User\\AppData\\Local\\Temp\\ipykernel_13440\\2121799534.py:12: SettingWithCopyWarning: \n",
      "A value is trying to be set on a copy of a slice from a DataFrame.\n",
      "Try using .loc[row_indexer,col_indexer] = value instead\n",
      "\n",
      "See the caveats in the documentation: https://pandas.pydata.org/pandas-docs/stable/user_guide/indexing.html#returning-a-view-versus-a-copy\n",
      "  pl_df2['with vat'] = pl_df2['selling_price'] * 1.12\n",
      "C:\\Users\\User\\AppData\\Local\\Temp\\ipykernel_13440\\2121799534.py:19: FutureWarning: The provided callable <built-in function sum> is currently using DataFrameGroupBy.sum. In a future version of pandas, the provided callable will be used directly. To keep current behavior pass the string \"sum\" instead.\n",
      "  pl_df_m0_f = pl_df_m0.pivot_table(index=['product_code', 'product_description',], columns='uom_description', values='with vat', aggfunc=sum)\n"
     ]
    }
   ],
   "source": [
    "#Price List M0\n",
    "\n",
    "im_filename_pl = \"DMS-Price-on.xlsx\"\n",
    "full_im_path_pl = os.path.join(import_path, im_filename_pl)\n",
    "\n",
    "pl_df = pd.read_excel(full_im_path_pl)\n",
    "\n",
    "pl_df2 = pl_df\n",
    "\n",
    "pl_df2 = pl_df2[['product_code', 'product_description', 'uom_description', 'selling_price', 'cust_class', 'cust_channel']]\n",
    "pl_df2.insert(4,'with vat', 0)\n",
    "pl_df2['with vat'] = pl_df2['selling_price'] * 1.12\n",
    "\n",
    "pl_df_m0 = pl_df2\n",
    "\n",
    "pl_df_m0 = pl_df_m0[pl_df_m0['cust_class'] != 'BEV Dealer']\n",
    "pl_df_m0 = pl_df_m0[pl_df_m0['cust_channel'] != 'VAN(EXTRUCK)']\n",
    "\n",
    "pl_df_m0_f = pl_df_m0.pivot_table(index=['product_code', 'product_description',], columns='uom_description', values='with vat', aggfunc=sum)\n",
    "\n",
    "pl_df_m0_f_1 = pl_df_m0_f.reset_index()\n",
    "\n",
    "pl_df_m0_f_1['Case'] = pl_df_m0_f_1['Case'].fillna(0)\n",
    "pl_df_m0_f_1['Piece'] = pl_df_m0_f_1['Piece'].fillna(0)\n",
    "pl_df_m0_f_1['Subcase'] = pl_df_m0_f_1['Subcase'].fillna(0)\n",
    "\n",
    "pl_m0_final = pl_df_m0_f_1[['product_code', 'product_description', 'Case', 'Subcase', 'Piece']]\n",
    "\n",
    "ex_filename_pl_m0 = \"M0 Pricelist.xlsx\"\n",
    "full_path_pl_m0 = os.path.join(export_path, ex_filename_pl_m0)\n",
    "\n",
    "export_pl_m0 = pl_m0_final\n",
    "export_pl_m0.to_excel(full_path_pl_m0, index=False)\n"
   ]
  }
 ],
 "metadata": {
  "kernelspec": {
   "display_name": "Python 3",
   "language": "python",
   "name": "python3"
  },
  "language_info": {
   "codemirror_mode": {
    "name": "ipython",
    "version": 3
   },
   "file_extension": ".py",
   "mimetype": "text/x-python",
   "name": "python",
   "nbconvert_exporter": "python",
   "pygments_lexer": "ipython3",
   "version": "3.13.1"
  }
 },
 "nbformat": 4,
 "nbformat_minor": 5
}
