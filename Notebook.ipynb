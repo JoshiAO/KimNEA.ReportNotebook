{
 "cells": [
  {
   "cell_type": "code",
   "execution_count": 4,
   "id": "8384d169",
   "metadata": {},
   "outputs": [],
   "source": [
    "import pandas as pd\n",
    "import os\n",
    "\n",
    "export_path = r\"C:\\Users\\User\\Downloads\\COB DATA\\2025\\10.October\\10.23.25\\Export\"\n",
    "import_path = r\"C:\\Users\\User\\Downloads\\COB DATA\\2025\\10.October\\10.23.25\\COB\\Data\"\n",
    "os.makedirs(export_path, exist_ok=True)\n"
   ]
  },
  {
   "cell_type": "code",
   "execution_count": 5,
   "id": "c8fe98b3",
   "metadata": {},
   "outputs": [
    {
     "name": "stderr",
     "output_type": "stream",
     "text": [
      "c:\\Python313\\Lib\\site-packages\\openpyxl\\styles\\stylesheet.py:237: UserWarning: Workbook contains no default style, apply openpyxl's default\n",
      "  warn(\"Workbook contains no default style, apply openpyxl's default\")\n",
      "C:\\Users\\User\\AppData\\Local\\Temp\\ipykernel_12896\\258991540.py:16: SettingWithCopyWarning: \n",
      "A value is trying to be set on a copy of a slice from a DataFrame.\n",
      "Try using .loc[row_indexer,col_indexer] = value instead\n",
      "\n",
      "See the caveats in the documentation: https://pandas.pydata.org/pandas-docs/stable/user_guide/indexing.html#returning-a-view-versus-a-copy\n",
      "  inv_f['Total Item amount with Tax and Discount'] = inv_f['Total Item amount with Tax and Discount'].fillna(0)\n"
     ]
    }
   ],
   "source": [
    "#INVOICE ON Arrangement\n",
    "\n",
    "im_filename_inv = \"DMS-Invoice-on.xlsx\"\n",
    "full_im_path_inv = os.path.join(import_path, im_filename_inv)\n",
    "\n",
    "df1 = pd.read_excel(full_im_path_inv)\n",
    "\n",
    "dfc = df1[['Invoice Date', 'Sold To Customer Number',\n",
    "'Sold To Customer Name', 'Product Code', 'Product/Item Description',\n",
    "'Total Item amount with Tax and Discount', 'Invoice Item Type']]\n",
    "inv = dfc[dfc['Invoice Item Type'] != 'ITM_SALES_TAX']\n",
    "\n",
    "inv_f = inv\n",
    "inv_f.insert(6,'BO',0)\n",
    "inv_f.insert(7,'FG',0)\n",
    "inv_f['Total Item amount with Tax and Discount'] = inv_f['Total Item amount with Tax and Discount'].fillna(0)\n",
    "inv_f = inv_f.drop('Invoice Item Type', axis=1)\n",
    "\n",
    "\n",
    "ex_filename_inv = \"Invoices.xlsx\"\n",
    "full_path_inv = os.path.join(export_path, ex_filename_inv)\n",
    "\n",
    "export_inv = inv_f\n",
    "export_inv = export_inv.drop(['BO', 'FG'], axis=1)\n",
    "export_inv = export_inv.sort_values(by=['Invoice Date', 'Sold To Customer Number'])\n",
    "export_inv.to_excel(full_path_inv, index=False)"
   ]
  },
  {
   "cell_type": "code",
   "execution_count": 7,
   "id": "43bdb480",
   "metadata": {},
   "outputs": [
    {
     "name": "stderr",
     "output_type": "stream",
     "text": [
      "C:\\Users\\User\\AppData\\Local\\Temp\\ipykernel_12896\\3676257053.py:10: FutureWarning: A value is trying to be set on a copy of a DataFrame or Series through chained assignment using an inplace method.\n",
      "The behavior will change in pandas 3.0. This inplace method will never work because the intermediate object on which we are setting values always behaves as a copy.\n",
      "\n",
      "For example, when doing 'df[col].method(value, inplace=True)', try using 'df.method({col: value}, inplace=True)' or df[col] = df[col].method(value) instead, to perform the operation inplace on the original object.\n",
      "\n",
      "\n",
      "  dfc2['Estimated Product Return Amount'].fillna(0, inplace=True)\n",
      "C:\\Users\\User\\AppData\\Local\\Temp\\ipykernel_12896\\3676257053.py:10: SettingWithCopyWarning: \n",
      "A value is trying to be set on a copy of a slice from a DataFrame\n",
      "\n",
      "See the caveats in the documentation: https://pandas.pydata.org/pandas-docs/stable/user_guide/indexing.html#returning-a-view-versus-a-copy\n",
      "  dfc2['Estimated Product Return Amount'].fillna(0, inplace=True)\n",
      "C:\\Users\\User\\AppData\\Local\\Temp\\ipykernel_12896\\3676257053.py:13: SettingWithCopyWarning: \n",
      "A value is trying to be set on a copy of a slice from a DataFrame.\n",
      "Try using .loc[row_indexer,col_indexer] = value instead\n",
      "\n",
      "See the caveats in the documentation: https://pandas.pydata.org/pandas-docs/stable/user_guide/indexing.html#returning-a-view-versus-a-copy\n",
      "  dfc2['with vat'] = dfc2['Estimated Product Return Amount'] * 1.12\n",
      "C:\\Users\\User\\AppData\\Local\\Temp\\ipykernel_12896\\3676257053.py:15: FutureWarning: The provided callable <built-in function sum> is currently using DataFrameGroupBy.sum. In a future version of pandas, the provided callable will be used directly. To keep current behavior pass the string \"sum\" instead.\n",
      "  cust_ret = dfc2.pivot_table(index=['Customer Return Date', 'Sold To Customer Number', 'Sold To Customer Name',\n"
     ]
    }
   ],
   "source": [
    "#CUSTOMER RETURNS Arrangement\n",
    "\n",
    "im_filename_ret = \"DMS-Customer Returns-on.xlsx\"\n",
    "full_im_path_ret = os.path.join(import_path, im_filename_ret)\n",
    "\n",
    "df2 = pd.read_excel(full_im_path_ret)\n",
    "\n",
    "dfc2 = df2[['Customer Return Date', 'Sold To Customer Number', 'Sold To Customer Name', \n",
    "'Product Code', 'Product Description', 'Facility Name', 'Estimated Product Return Amount']]\n",
    "dfc2['Estimated Product Return Amount'].fillna(0, inplace=True)\n",
    "dfc2.insert(5,'Total Item amount with Tax and Discount', 0)\n",
    "dfc2.insert(8,'with vat', 0)\n",
    "dfc2['with vat'] = dfc2['Estimated Product Return Amount'] * 1.12\n",
    "\n",
    "cust_ret = dfc2.pivot_table(index=['Customer Return Date', 'Sold To Customer Number', 'Sold To Customer Name', \n",
    "'Product Code', 'Product Description', 'Total Item amount with Tax and Discount'], columns='Facility Name', values='with vat', aggfunc=sum)\n",
    "\n",
    "ret_f = cust_ret.reset_index()\n",
    "ret_f['BO'] = ret_f['BO'].fillna(0)\n",
    "ret_f['FG'] = ret_f['FG'].fillna(0)"
   ]
  },
  {
   "cell_type": "code",
   "execution_count": 8,
   "id": "037986e9",
   "metadata": {},
   "outputs": [],
   "source": [
    "#COMBINE INVOICED AND RETURNS to NET INVOICED\n",
    "\n",
    "inv_f.rename(columns={\n",
    "'Invoice Date': 'DATE',\n",
    "'Sold To Customer Number': 'ACCOUNT CODE',\n",
    "'Sold To Customer Name': 'ACCOUNT NAME',\n",
    "'Product Code': 'SKU CODE',\n",
    "'Product/Item Description': 'SKU NAME',\n",
    "'Total Item amount with Tax and Discount': 'SERVED INVOICE',\n",
    "'BO': 'BAD RETURNS',\n",
    "'FG': 'GOOD RETURNS'\n",
    "}, inplace=True)\n",
    "\n",
    "ret_f.rename(columns={\n",
    "'Customer Return Date': 'DATE',\n",
    "'Sold To Customer Number': 'ACCOUNT CODE', \n",
    "'Sold To Customer Name': 'ACCOUNT NAME',\n",
    "'Product Code': 'SKU CODE', \n",
    "'Product Description': 'SKU NAME',\n",
    "'Total Item amount with Tax and Discount': 'SERVED INVOICE',\n",
    "'BO': 'BAD RETURNS',\n",
    "'FG': 'GOOD RETURNS'\n",
    "}, inplace=True)\n",
    "\n",
    "net_inv = pd.concat([inv_f, ret_f], axis=0)\n",
    "\n",
    "ex_filename_net_inv = \"Net_Invoiced.xlsx\"\n",
    "full_path_net_inv = os.path.join(export_path, ex_filename_net_inv)\n",
    "\n",
    "export_net_inv = net_inv\n",
    "export_net_inv.to_excel(full_path_net_inv, index=False)"
   ]
  },
  {
   "cell_type": "code",
   "execution_count": 9,
   "id": "4d2fdf5c",
   "metadata": {},
   "outputs": [
    {
     "name": "stderr",
     "output_type": "stream",
     "text": [
      "c:\\Python313\\Lib\\site-packages\\openpyxl\\styles\\stylesheet.py:237: UserWarning: Workbook contains no default style, apply openpyxl's default\n",
      "  warn(\"Workbook contains no default style, apply openpyxl's default\")\n",
      "C:\\Users\\User\\AppData\\Local\\Temp\\ipykernel_12896\\2300135604.py:12: FutureWarning: A value is trying to be set on a copy of a DataFrame or Series through chained assignment using an inplace method.\n",
      "The behavior will change in pandas 3.0. This inplace method will never work because the intermediate object on which we are setting values always behaves as a copy.\n",
      "\n",
      "For example, when doing 'df[col].method(value, inplace=True)', try using 'df.method({col: value}, inplace=True)' or df[col] = df[col].method(value) instead, to perform the operation inplace on the original object.\n",
      "\n",
      "\n",
      "  so_par['Total Product Amount'].fillna(0, inplace=True)\n",
      "C:\\Users\\User\\AppData\\Local\\Temp\\ipykernel_12896\\2300135604.py:12: SettingWithCopyWarning: \n",
      "A value is trying to be set on a copy of a slice from a DataFrame\n",
      "\n",
      "See the caveats in the documentation: https://pandas.pydata.org/pandas-docs/stable/user_guide/indexing.html#returning-a-view-versus-a-copy\n",
      "  so_par['Total Product Amount'].fillna(0, inplace=True)\n",
      "C:\\Users\\User\\AppData\\Local\\Temp\\ipykernel_12896\\2300135604.py:14: SettingWithCopyWarning: \n",
      "A value is trying to be set on a copy of a slice from a DataFrame.\n",
      "Try using .loc[row_indexer,col_indexer] = value instead\n",
      "\n",
      "See the caveats in the documentation: https://pandas.pydata.org/pandas-docs/stable/user_guide/indexing.html#returning-a-view-versus-a-copy\n",
      "  so_par['with vat'] = so_par['Total Product Amount'] * 1.12\n"
     ]
    }
   ],
   "source": [
    "#SALES ORDERS\n",
    "\n",
    "im_filename_so = \"DMS-Sales Order-on.xlsx\"\n",
    "full_im_path_so = os.path.join(import_path, im_filename_so)\n",
    "\n",
    "df3 = pd.read_excel(full_im_path_so)\n",
    "\n",
    "dfc3 = df3[['Last Modified Date', 'Sold To Customer number', 'Sold To Customer Name',\n",
    " 'Product Code', 'Product Description', 'Total Product Amount', 'SO status']]\n",
    "so_par = dfc3[dfc3['SO status'] == 'Invoiced']\n",
    "\n",
    "so_par['Total Product Amount'].fillna(0, inplace=True)\n",
    "so_par.insert(6,'with vat', 0)\n",
    "so_par['with vat'] = so_par['Total Product Amount'] * 1.12\n",
    "\n",
    "so_f = so_par\n",
    "so_f = so_f.drop(['Total Product Amount', 'SO status'], axis=1)\n",
    "\n",
    "ex_filename_so = \"Sales_Orders.xlsx\"\n",
    "full_path_so = os.path.join(export_path, ex_filename_so)\n",
    "\n",
    "export_so = so_f\n",
    "export_so.to_excel(full_path_so, index=False)"
   ]
  }
 ],
 "metadata": {
  "kernelspec": {
   "display_name": "Python 3",
   "language": "python",
   "name": "python3"
  },
  "language_info": {
   "codemirror_mode": {
    "name": "ipython",
    "version": 3
   },
   "file_extension": ".py",
   "mimetype": "text/x-python",
   "name": "python",
   "nbconvert_exporter": "python",
   "pygments_lexer": "ipython3",
   "version": "3.13.1"
  }
 },
 "nbformat": 4,
 "nbformat_minor": 5
}
